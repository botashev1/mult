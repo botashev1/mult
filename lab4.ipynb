{
 "cells": [
  {
   "cell_type": "code",
   "execution_count": 5,
   "metadata": {},
   "outputs": [],
   "source": [
    "# Импорт необходимых библиотек\n",
    "import pandas as pd\n",
    "import numpy as np\n",
    "from sklearn.model_selection import train_test_split\n",
    "from sklearn.ensemble import RandomForestClassifier, RandomForestRegressor\n",
    "from sklearn.metrics import accuracy_score, precision_score, recall_score, f1_score, mean_absolute_error, mean_squared_error, r2_score\n",
    "from sklearn.preprocessing import StandardScaler\n",
    "\n",
    "# Загрузка данных для Titanic и House Prices\n",
    "def load_and_preprocess_titanic(filepath):\n",
    "    data = pd.read_csv(filepath)\n",
    "    data['Age'].fillna(data['Age'].median(), inplace=True)\n",
    "    data['Fare'].fillna(data['Fare'].median(), inplace=True)\n",
    "    data.dropna(subset=['Embarked'], inplace=True)\n",
    "    data = pd.get_dummies(data, columns=['Sex', 'Embarked'])\n",
    "    features = ['Pclass', 'Age', 'SibSp', 'Parch', 'Fare', 'Sex_female', 'Sex_male', 'Embarked_C', 'Embarked_Q', 'Embarked_S']\n",
    "    X = data[features]\n",
    "    y = data['Survived']\n",
    "    return train_test_split(X, y, test_size=0.2, random_state=42)\n",
    "\n",
    "def load_and_preprocess_house_data(filepath):\n",
    "    data = pd.read_csv(filepath)\n",
    "    data['LotFrontage'].fillna(data['LotFrontage'].median(), inplace=True)\n",
    "    data = pd.get_dummies(data)\n",
    "    features = ['OverallQual', 'GrLivArea', 'GarageCars', 'TotalBsmtSF', '1stFlrSF']\n",
    "    X = data[features]\n",
    "    y = data['SalePrice']\n",
    "    return train_test_split(X, y, test_size=0.2, random_state=42)\n",
    "\n",
    "# Загрузка и разделение данных\n",
    "X_train_titanic, X_test_titanic, y_train_titanic, y_test_titanic = load_and_preprocess_titanic('titanic/train.csv')\n",
    "X_train_house, X_test_house, y_train_house, y_test_house = load_and_preprocess_house_data('house-prices-advanced-regression-techniques/train.csv')"
   ]
  },
  {
   "cell_type": "code",
   "execution_count": 2,
   "metadata": {},
   "outputs": [],
   "source": [
    "# Обучение модели Random Forest для классификации на данных Titanic\n",
    "rf_clf = RandomForestClassifier(random_state=42, n_estimators=100)\n",
    "rf_clf.fit(X_train_titanic, y_train_titanic)\n",
    "\n",
    "# Предсказания\n",
    "y_pred_titanic = rf_clf.predict(X_test_titanic)"
   ]
  },
  {
   "cell_type": "code",
   "execution_count": 3,
   "metadata": {},
   "outputs": [],
   "source": [
    "# Обучение модели Random Forest для регрессии на данных House Prices\n",
    "rf_regr = RandomForestRegressor(random_state=42, n_estimators=100)\n",
    "rf_regr.fit(X_train_house, y_train_house)\n",
    "\n",
    "# Предсказания\n",
    "y_pred_house = rf_regr.predict(X_test_house)"
   ]
  },
  {
   "cell_type": "code",
   "execution_count": 6,
   "metadata": {},
   "outputs": [
    {
     "name": "stdout",
     "output_type": "stream",
     "text": [
      "Random Forest Classifier - Titanic Dataset:\n",
      "Accuracy: 0.7640449438202247\n",
      "Precision: 0.68\n",
      "Recall: 0.7391304347826086\n",
      "F1 Score: 0.7083333333333334\n",
      "\n",
      "Random Forest Regressor - House Prices Dataset:\n",
      "Mean Absolute Error (MAE): 19993.524931237902\n",
      "Mean Squared Error (MSE): 876487910.748193\n",
      "Root Mean Squared Error (RMSE): 29605.538514747423\n",
      "R-squared (R²): 0.8857300345418269\n"
     ]
    }
   ],
   "source": [
    "print(\"Random Forest Classifier - Titanic Dataset:\")\n",
    "print(\"Accuracy:\", accuracy_score(y_test_titanic, y_pred_titanic))\n",
    "print(\"Precision:\", precision_score(y_test_titanic, y_pred_titanic))\n",
    "print(\"Recall:\", recall_score(y_test_titanic, y_pred_titanic))\n",
    "print(\"F1 Score:\", f1_score(y_test_titanic, y_pred_titanic))\n",
    "\n",
    "print(\"\\nRandom Forest Regressor - House Prices Dataset:\")\n",
    "print(\"Mean Absolute Error (MAE):\", mean_absolute_error(y_test_house, y_pred_house))\n",
    "print(\"Mean Squared Error (MSE):\", mean_squared_error(y_test_house, y_pred_house))\n",
    "print(\"Root Mean Squared Error (RMSE):\", np.sqrt(mean_squared_error(y_test_house, y_pred_house)))\n",
    "print(\"R-squared (R²):\", r2_score(y_test_house, y_pred_house))"
   ]
  },
  {
   "cell_type": "code",
   "execution_count": 7,
   "metadata": {},
   "outputs": [],
   "source": [
    "def enhanced_preprocess_titanic(filepath):\n",
    "    data = pd.read_csv(filepath)\n",
    "    # Интеллектуальное заполнение пропущенных значений\n",
    "    data['Age'].fillna(data['Age'].median(), inplace=True)\n",
    "    data['Fare'].fillna(data.groupby('Pclass')['Fare'].transform('median'), inplace=True)\n",
    "    data.dropna(subset=['Embarked'], inplace=True)\n",
    "\n",
    "    # Лог-преобразование тарифа для уменьшения воздействия выбросов\n",
    "    data['Fare'] = np.log1p(data['Fare'])\n",
    "\n",
    "    data = pd.get_dummies(data, columns=['Sex', 'Embarked'])\n",
    "    features = ['Pclass', 'Age', 'SibSp', 'Parch', 'Fare', 'Sex_female', 'Sex_male', 'Embarked_C', 'Embarked_Q', 'Embarked_S']\n",
    "    X = data[features]\n",
    "    y = data['Survived']\n",
    "    return train_test_split(X, y, test_size=0.2, random_state=42)\n",
    "\n",
    "# Аналогичная процедура для House Prices\n",
    "def enhanced_preprocess_house(filepath):\n",
    "    data = pd.read_csv(filepath)\n",
    "    data['LotFrontage'].fillna(data.groupby('Neighborhood')['LotFrontage'].transform('median'), inplace=True)\n",
    "\n",
    "    # Анализ важности признаков\n",
    "    importances = rf_regr.feature_importances_\n",
    "    indices = np.argsort(importances)[::-1]\n",
    "\n",
    "    # Используем только самые важные признаки\n",
    "    important_features = ['OverallQual', 'GrLivArea', 'GarageCars', 'TotalBsmtSF', '1stFlrSF']\n",
    "\n",
    "    data = pd.get_dummies(data)\n",
    "    X = data[important_features]\n",
    "    y = data['SalePrice']\n",
    "    return train_test_split(X, y, test_size=0.2, random_state=42)"
   ]
  },
  {
   "cell_type": "code",
   "execution_count": 10,
   "metadata": {},
   "outputs": [
    {
     "name": "stdout",
     "output_type": "stream",
     "text": [
      "Best parameters for Random Forest Classifier: {'bootstrap': False, 'max_depth': 10, 'max_features': 'auto', 'min_samples_leaf': 1, 'min_samples_split': 5, 'n_estimators': 200}\n"
     ]
    }
   ],
   "source": [
    "from sklearn.model_selection import GridSearchCV, RandomizedSearchCV\n",
    "\n",
    "param_grid_classifier = {\n",
    "    'n_estimators': [100, 200],\n",
    "    'max_features': ['auto', 'sqrt'],\n",
    "    'max_depth': [None, 6, 10],\n",
    "    'min_samples_split': [2, 5, 10],\n",
    "    'min_samples_leaf': [1, 2, 4],\n",
    "    'bootstrap': [True, False]\n",
    "}\n",
    "\n",
    "grid_clf = GridSearchCV(estimator=rf_clf, param_grid=param_grid_classifier, cv=5, scoring='accuracy', n_jobs=-1)\n",
    "grid_clf.fit(X_train_titanic, y_train_titanic)\n",
    "\n",
    "print(\"Best parameters for Random Forest Classifier:\", grid_clf.best_params_)"
   ]
  },
  {
   "cell_type": "code",
   "execution_count": 11,
   "metadata": {},
   "outputs": [],
   "source": [
    "# Обучение улучшенной модели Random Forest для Titanic\n",
    "improved_rf_clf = RandomForestClassifier(**grid_clf.best_params_, random_state=42)\n",
    "improved_rf_clf.fit(X_train_titanic, y_train_titanic)\n",
    "y_pred_titanic_improved = improved_rf_clf.predict(X_test_titanic)\n",
    "\n",
    "# Аналогичный процесс для Random Forest для House Prices с улучшением\n",
    "grid_regr = RandomizedSearchCV(estimator=rf_regr, param_distributions=param_grid_classifier, cv=5, n_jobs=-1, scoring='neg_mean_squared_error', n_iter=100, random_state=42)\n",
    "grid_regr.fit(X_train_house, y_train_house)\n",
    "\n",
    "improved_rf_regr = RandomForestRegressor(**grid_regr.best_params_, random_state=42)\n",
    "improved_rf_regr.fit(X_train_house, y_train_house)\n",
    "y_pred_house_improved = improved_rf_regr.predict(X_test_house)"
   ]
  },
  {
   "cell_type": "code",
   "execution_count": 12,
   "metadata": {},
   "outputs": [
    {
     "name": "stdout",
     "output_type": "stream",
     "text": [
      "Improved Random Forest Classifier - Titanic Dataset:\n",
      "Accuracy: 0.7921348314606742\n",
      "Precision: 0.7424242424242424\n",
      "Recall: 0.7101449275362319\n",
      "F1 Score: 0.725925925925926\n",
      "\n",
      "Improved Random Forest Regressor - House Prices Dataset:\n",
      "Mean Absolute Error (MAE): 20588.888082848378\n",
      "Mean Squared Error (MSE): 1081613086.9121847\n",
      "Root Mean Squared Error (RMSE): 32887.88662885143\n",
      "R-squared (R²): 0.8589873419074786\n"
     ]
    }
   ],
   "source": [
    "print(\"Improved Random Forest Classifier - Titanic Dataset:\")\n",
    "print(\"Accuracy:\", accuracy_score(y_test_titanic, y_pred_titanic_improved))\n",
    "print(\"Precision:\", precision_score(y_test_titanic, y_pred_titanic_improved))\n",
    "print(\"Recall:\", recall_score(y_test_titanic, y_pred_titanic_improved))\n",
    "print(\"F1 Score:\", f1_score(y_test_titanic, y_pred_titanic_improved))\n",
    "\n",
    "print(\"\\nImproved Random Forest Regressor - House Prices Dataset:\")\n",
    "print(\"Mean Absolute Error (MAE):\", mean_absolute_error(y_test_house, y_pred_house_improved))\n",
    "print(\"Mean Squared Error (MSE):\", mean_squared_error(y_test_house, y_pred_house_improved))\n",
    "print(\"Root Mean Squared Error (RMSE):\", np.sqrt(mean_squared_error(y_test_house, y_pred_house_improved)))\n",
    "print(\"R-squared (R²):\", r2_score(y_test_house, y_pred_house_improved))\n"
   ]
  },
  {
   "cell_type": "code",
   "execution_count": 20,
   "metadata": {},
   "outputs": [],
   "source": [
    "import numpy as np\n",
    "from collections import Counter\n",
    "from sklearn.tree import DecisionTreeClassifier\n",
    "from sklearn.utils import resample\n",
    "\n",
    "class SimpleRandomForestClassifier:\n",
    "    def __init__(self, n_estimators=10, max_depth=None, bootstrap=True, random_state=None):\n",
    "        self.n_estimators = n_estimators\n",
    "        self.max_depth = max_depth\n",
    "        self.bootstrap = bootstrap\n",
    "        self.random_state = random_state\n",
    "        self.trees = []\n",
    "\n",
    "    def fit(self, X, y):\n",
    "        np.random.seed(self.random_state)\n",
    "        for _ in range(self.n_estimators):\n",
    "            if self.bootstrap:\n",
    "                X_sample, y_sample = resample(X, y, n_samples=len(X), random_state=self.random_state)\n",
    "            else:\n",
    "                X_sample, y_sample = X, y\n",
    "\n",
    "            tree = DecisionTreeClassifier(max_depth=self.max_depth, random_state=self.random_state)\n",
    "            tree.fit(X_sample, y_sample)\n",
    "            self.trees.append(tree)\n",
    "\n",
    "    def predict(self, X):\n",
    "        tree_preds = np.array([tree.predict(X) for tree in self.trees])\n",
    "        tree_preds_majority = [Counter(tree_preds[:, i]).most_common(1)[0][0] for i in range(X.shape[0])]\n",
    "        return np.array(tree_preds_majority)\n",
    "    "
   ]
  },
  {
   "cell_type": "code",
   "execution_count": 21,
   "metadata": {},
   "outputs": [],
   "source": [
    "from sklearn.tree import DecisionTreeRegressor\n",
    "\n",
    "class SimpleRandomForestRegressor:\n",
    "    def __init__(self, n_estimators=10, max_depth=None, bootstrap=True, random_state=None):\n",
    "        self.n_estimators = n_estimators\n",
    "        self.max_depth = max_depth\n",
    "        self.bootstrap = bootstrap\n",
    "        self.random_state = random_state\n",
    "        self.trees = []\n",
    "\n",
    "    def fit(self, X, y):\n",
    "        np.random.seed(self.random_state)\n",
    "        for _ in range(self.n_estimators):\n",
    "            if self.bootstrap:\n",
    "                X_sample, y_sample = resample(X, y, n_samples=len(X), random_state=self.random_state)\n",
    "            else:\n",
    "                X_sample, y_sample = X, y\n",
    "            \n",
    "            tree = DecisionTreeRegressor(max_depth=self.max_depth, random_state=self.random_state)\n",
    "            tree.fit(X_sample, y_sample)\n",
    "            self.trees.append(tree)\n",
    "\n",
    "    def predict(self, X):\n",
    "        tree_preds = np.array([tree.predict(X) for tree in self.trees])\n",
    "        return np.mean(tree_preds, axis=0)"
   ]
  },
  {
   "cell_type": "code",
   "execution_count": 22,
   "metadata": {},
   "outputs": [],
   "source": [
    "# Обучаем простую модель случайного леса для Titanic\n",
    "simple_rf_clf = SimpleRandomForestClassifier(n_estimators=10, max_depth=None, random_state=42)\n",
    "simple_rf_clf.fit(X_train_titanic, y_train_titanic)\n",
    "y_pred_titanic_simple = simple_rf_clf.predict(X_test_titanic)"
   ]
  },
  {
   "cell_type": "code",
   "execution_count": 23,
   "metadata": {},
   "outputs": [],
   "source": [
    "# Обучаем простую модель случайного леса для House Prices\n",
    "simple_rf_regr = SimpleRandomForestRegressor(n_estimators=10, max_depth=None, random_state=42)\n",
    "simple_rf_regr.fit(X_train_house, y_train_house)\n",
    "y_pred_house_simple = simple_rf_regr.predict(X_test_house)"
   ]
  },
  {
   "cell_type": "code",
   "execution_count": 24,
   "metadata": {},
   "outputs": [
    {
     "name": "stdout",
     "output_type": "stream",
     "text": [
      "Simple Random Forest Classifier - Titanic Dataset:\n",
      "Accuracy: 0.7528089887640449\n",
      "Precision: 0.6582278481012658\n",
      "Recall: 0.7536231884057971\n",
      "F1 Score: 0.7027027027027026\n",
      "\n",
      "Simple Random Forest Regressor - House Prices Dataset:\n",
      "Mean Absolute Error (MAE): 28740.007990867576\n",
      "Mean Squared Error (MSE): 1703506782.8245814\n",
      "Root Mean Squared Error (RMSE): 41273.56033618352\n",
      "R-squared (R²): 0.7779094738854275\n"
     ]
    }
   ],
   "source": [
    "print(\"Simple Random Forest Classifier - Titanic Dataset:\")\n",
    "print(\"Accuracy:\", accuracy_score(y_test_titanic, y_pred_titanic_simple))\n",
    "print(\"Precision:\", precision_score(y_test_titanic, y_pred_titanic_simple))\n",
    "print(\"Recall:\", recall_score(y_test_titanic, y_pred_titanic_simple))\n",
    "print(\"F1 Score:\", f1_score(y_test_titanic, y_pred_titanic_simple))\n",
    "\n",
    "print(\"\\nSimple Random Forest Regressor - House Prices Dataset:\")\n",
    "print(\"Mean Absolute Error (MAE):\", mean_absolute_error(y_test_house, y_pred_house_simple))\n",
    "print(\"Mean Squared Error (MSE):\", mean_squared_error(y_test_house, y_pred_house_simple))\n",
    "print(\"Root Mean Squared Error (RMSE):\", np.sqrt(mean_squared_error(y_test_house, y_pred_house_simple)))\n",
    "print(\"R-squared (R²):\", r2_score(y_test_house, y_pred_house_simple))"
   ]
  },
  {
   "cell_type": "code",
   "execution_count": 26,
   "metadata": {},
   "outputs": [],
   "source": [
    "def enhanced_preprocess_titanic(filepath):\n",
    "    data = pd.read_csv(filepath)\n",
    "    \n",
    "    # Заполнение пропусков и лог-преобразование для устойчивости к выбросам\n",
    "    data['Age'].fillna(data['Age'].median(), inplace=True)\n",
    "    data['Fare'].fillna(data.groupby('Pclass')['Fare'].transform('median'), inplace=True)\n",
    "    data['Fare'] = np.log1p(data['Fare'])\n",
    "    \n",
    "    # Очистка данных\n",
    "    data.dropna(subset=['Embarked'], inplace=True)\n",
    "\n",
    "    # Кодирование категориальных признаков\n",
    "    data = pd.get_dummies(data, columns=['Sex', 'Embarked'])\n",
    "    \n",
    "    features = ['Pclass', 'Age', 'SibSp', 'Parch', 'Fare', 'Sex_female', 'Sex_male', 'Embarked_C', 'Embarked_Q', 'Embarked_S']\n",
    "    X = data[features]\n",
    "    y = data['Survived']\n",
    "    \n",
    "    return train_test_split(X, y, test_size=0.2, random_state=42)\n",
    "\n",
    "X_train_titanic, X_test_titanic, y_train_titanic, y_test_titanic = enhanced_preprocess_titanic('titanic/train.csv')"
   ]
  },
  {
   "cell_type": "code",
   "execution_count": 27,
   "metadata": {},
   "outputs": [],
   "source": [
    "def enhanced_preprocess_house(filepath):\n",
    "    data = pd.read_csv(filepath)\n",
    "    \n",
    "    # Заполнение пропусков для LotFrontage\n",
    "    data['LotFrontage'].fillna(data.groupby('Neighborhood')['LotFrontage'].transform('median'), inplace=True)\n",
    "\n",
    "    # Важные признаки на основе предыдущего анализа\n",
    "    important_features = ['OverallQual', 'GrLivArea', 'GarageCars', 'TotalBsmtSF', '1stFlrSF']\n",
    "    \n",
    "    data = pd.get_dummies(data)\n",
    "    X = data[important_features]\n",
    "    y = data['SalePrice']\n",
    "    \n",
    "    return train_test_split(X, y, test_size=0.2, random_state=42)\n",
    "\n",
    "X_train_house, X_test_house, y_train_house, y_test_house = enhanced_preprocess_house('house-prices-advanced-regression-techniques/train.csv')"
   ]
  },
  {
   "cell_type": "code",
   "execution_count": 28,
   "metadata": {},
   "outputs": [],
   "source": [
    "# Улучшенное обучение моделей с обновленной предобработкой данных\n",
    "improved_simple_rf_clf = SimpleRandomForestClassifier(n_estimators=20, max_depth=6, random_state=42)\n",
    "improved_simple_rf_clf.fit(X_train_titanic, y_train_titanic)\n",
    "y_pred_titanic_improved = improved_simple_rf_clf.predict(X_test_titanic)"
   ]
  },
  {
   "cell_type": "code",
   "execution_count": 29,
   "metadata": {},
   "outputs": [],
   "source": [
    "# Улучшенное обучение моделей с обновленной предобработкой данных\n",
    "improved_simple_rf_regr = SimpleRandomForestRegressor(n_estimators=20, max_depth=6, random_state=42)\n",
    "improved_simple_rf_regr.fit(X_train_house, y_train_house)\n",
    "y_pred_house_improved = improved_simple_rf_regr.predict(X_test_house)"
   ]
  },
  {
   "cell_type": "code",
   "execution_count": 30,
   "metadata": {},
   "outputs": [
    {
     "name": "stdout",
     "output_type": "stream",
     "text": [
      "Improved Simple Random Forest Classifier - Titanic Dataset:\n",
      "Accuracy: 0.7640449438202247\n",
      "Precision: 0.6901408450704225\n",
      "Recall: 0.7101449275362319\n",
      "F1 Score: 0.7\n",
      "\n",
      "Improved Simple Random Forest Regressor - House Prices Dataset:\n",
      "Mean Absolute Error (MAE): 25109.791981868377\n",
      "Mean Squared Error (MSE): 1288310921.053171\n",
      "Root Mean Squared Error (RMSE): 35893.04836668475\n",
      "R-squared (R²): 0.8320396178397187\n"
     ]
    }
   ],
   "source": [
    "print(\"Improved Simple Random Forest Classifier - Titanic Dataset:\")\n",
    "print(\"Accuracy:\", accuracy_score(y_test_titanic, y_pred_titanic_improved))\n",
    "print(\"Precision:\", precision_score(y_test_titanic, y_pred_titanic_improved))\n",
    "print(\"Recall:\", recall_score(y_test_titanic, y_pred_titanic_improved))\n",
    "print(\"F1 Score:\", f1_score(y_test_titanic, y_pred_titanic_improved))\n",
    "\n",
    "print(\"\\nImproved Simple Random Forest Regressor - House Prices Dataset:\")\n",
    "print(\"Mean Absolute Error (MAE):\", mean_absolute_error(y_test_house, y_pred_house_improved))\n",
    "print(\"Mean Squared Error (MSE):\", mean_squared_error(y_test_house, y_pred_house_improved))\n",
    "print(\"Root Mean Squared Error (RMSE):\", np.sqrt(mean_squared_error(y_test_house, y_pred_house_improved)))\n",
    "print(\"R-squared (R²):\", r2_score(y_test_house, y_pred_house_improved))"
   ]
  }
 ],
 "metadata": {
  "kernelspec": {
   "display_name": "env",
   "language": "python",
   "name": "python3"
  },
  "language_info": {
   "codemirror_mode": {
    "name": "ipython",
    "version": 3
   },
   "file_extension": ".py",
   "mimetype": "text/x-python",
   "name": "python",
   "nbconvert_exporter": "python",
   "pygments_lexer": "ipython3",
   "version": "3.7.9"
  }
 },
 "nbformat": 4,
 "nbformat_minor": 2
}
