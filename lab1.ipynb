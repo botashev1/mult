{
 "cells": [
  {
   "cell_type": "markdown",
   "metadata": {},
   "source": [
    "Датасеты:\n",
    "\n",
    "https://www.kaggle.com/competitions/titanic\n",
    "\n",
    "https://www.kaggle.com/competitions/house-prices-advanced-regression-techniques/rules\n",
    "\n",
    "Обучаем через модели sklearn"
   ]
  },
  {
   "cell_type": "code",
   "execution_count": 47,
   "metadata": {},
   "outputs": [
    {
     "name": "stdout",
     "output_type": "stream",
     "text": [
      "Titanic Dataset - Classification Metrics:\n",
      "Accuracy: 0.6293706293706294\n",
      "Precision: 0.5333333333333333\n",
      "Recall: 0.42857142857142855\n",
      "F1 Score: 0.4752475247524753\n",
      "ROC AUC Score: 0.6476806239737274\n"
     ]
    }
   ],
   "source": [
    "import pandas as pd\n",
    "from sklearn.model_selection import train_test_split\n",
    "from sklearn.preprocessing import StandardScaler\n",
    "from sklearn.neighbors import KNeighborsClassifier\n",
    "from sklearn.metrics import accuracy_score, precision_score, recall_score, f1_score, roc_auc_score\n",
    "\n",
    "# Загрузка данных\n",
    "train_data_titanic = pd.read_csv('titanic/train.csv')\n",
    "\n",
    "# Обработка данных: выбор признаков и заполнение пропущенных значений\n",
    "features = ['Pclass', 'Age', 'SibSp', 'Parch', 'Fare']\n",
    "train_data_titanic = train_data_titanic[features + ['Survived']].dropna()\n",
    "\n",
    "X_titanic = train_data_titanic[features]\n",
    "y_titanic = train_data_titanic['Survived']\n",
    "\n",
    "# Разбиение на обучающую и тестовую выборки\n",
    "X_train_titanic, X_test_titanic, y_train_titanic, y_test_titanic = train_test_split(X_titanic, y_titanic, test_size=0.2, random_state=42)\n",
    "\n",
    "# Нормализация\n",
    "scaler = StandardScaler()\n",
    "X_train_titanic = scaler.fit_transform(X_train_titanic)\n",
    "X_test_titanic = scaler.transform(X_test_titanic)\n",
    "\n",
    "# Обучение модели KNN\n",
    "knn_classifier = KNeighborsClassifier(n_neighbors=5)\n",
    "knn_classifier.fit(X_train_titanic, y_train_titanic)\n",
    "\n",
    "# Оценка качества модели\n",
    "y_pred_titanic = knn_classifier.predict(X_test_titanic)\n",
    "print(\"Titanic Dataset - Classification Metrics:\")\n",
    "print(\"Accuracy:\", accuracy_score(y_test_titanic, y_pred_titanic))\n",
    "print(\"Precision:\", precision_score(y_test_titanic, y_pred_titanic))\n",
    "print(\"Recall:\", recall_score(y_test_titanic, y_pred_titanic))\n",
    "print(\"F1 Score:\", f1_score(y_test_titanic, y_pred_titanic))\n",
    "y_pred_proba_titanic = knn_classifier.predict_proba(X_test_titanic)[:, 1]\n",
    "print(\"ROC AUC Score:\", roc_auc_score(y_test_titanic, y_pred_proba_titanic))"
   ]
  },
  {
   "cell_type": "code",
   "execution_count": 48,
   "metadata": {},
   "outputs": [
    {
     "name": "stdout",
     "output_type": "stream",
     "text": [
      "\n",
      "House Prices Dataset - Regression Metrics:\n",
      "Mean Absolute Error (MAE): 21665.454794520545\n",
      "Mean Squared Error (MSE): 1291465266.301644\n",
      "Root Mean Squared Error (RMSE): 35936.96239669742\n",
      "R-squared (R²): 0.8316283778007334\n"
     ]
    }
   ],
   "source": [
    "import numpy as np\n",
    "import pandas as pd\n",
    "from sklearn.model_selection import train_test_split\n",
    "from sklearn.preprocessing import StandardScaler\n",
    "from sklearn.neighbors import KNeighborsRegressor\n",
    "from sklearn.metrics import mean_absolute_error, mean_squared_error, r2_score\n",
    "\n",
    "# Загрузка данных\n",
    "train_data_house = pd.read_csv('house-prices-advanced-regression-techniques/train.csv')\n",
    "\n",
    "# Предварительная обработка данных: выбор признаков и заполнение пропущенных значений\n",
    "features = ['OverallQual', 'GrLivArea', 'GarageCars', 'GarageArea', 'TotalBsmtSF', '1stFlrSF']\n",
    "train_data_house = train_data_house[features + ['SalePrice']].dropna()\n",
    "\n",
    "X_house = train_data_house[features]\n",
    "y_house = train_data_house['SalePrice']\n",
    "\n",
    "# Разбиение на обучающую и тестовую выборки\n",
    "X_train_house, X_test_house, y_train_house, y_test_house = train_test_split(X_house, y_house, test_size=0.2, random_state=42)\n",
    "\n",
    "# Нормализация\n",
    "scaler = StandardScaler()\n",
    "X_train_house = scaler.fit_transform(X_train_house)\n",
    "X_test_house = scaler.transform(X_test_house)\n",
    "\n",
    "# Обучение модели KNN\n",
    "knn_regressor = KNeighborsRegressor(n_neighbors=5)\n",
    "knn_regressor.fit(X_train_house, y_train_house)\n",
    "\n",
    "# Оценка качества модели\n",
    "y_pred_house = knn_regressor.predict(X_test_house)\n",
    "print(\"\\nHouse Prices Dataset - Regression Metrics:\")\n",
    "print(\"Mean Absolute Error (MAE):\", mean_absolute_error(y_test_house, y_pred_house))\n",
    "print(\"Mean Squared Error (MSE):\", mean_squared_error(y_test_house, y_pred_house))\n",
    "print(\"Root Mean Squared Error (RMSE):\", np.sqrt(mean_squared_error(y_test_house, y_pred_house)))\n",
    "print(\"R-squared (R²):\", r2_score(y_test_house, y_pred_house))"
   ]
  },
  {
   "cell_type": "markdown",
   "metadata": {},
   "source": [
    "Улучшение бейзлайна"
   ]
  },
  {
   "cell_type": "code",
   "execution_count": 49,
   "metadata": {},
   "outputs": [
    {
     "name": "stdout",
     "output_type": "stream",
     "text": [
      "Improved Titanic Dataset - Classification Metrics:\n",
      "Accuracy: 0.6643356643356644\n",
      "Precision: 0.6052631578947368\n",
      "Recall: 0.4107142857142857\n",
      "F1 Score: 0.48936170212765956\n",
      "ROC AUC Score: 0.6841133004926108\n",
      "\n",
      "Improved House Prices Dataset - Regression Metrics:\n",
      "Mean Absolute Error (MAE): 20815.701633934554\n",
      "Mean Squared Error (MSE): 1126672963.2892282\n",
      "Root Mean Squared Error (RMSE): 33565.94946205497\n",
      "R-squared (R²): 0.8531127708449308\n"
     ]
    }
   ],
   "source": [
    "from sklearn.model_selection import GridSearchCV\n",
    "\n",
    "# Пример от поиска гиперпараметров KNN для классификации\n",
    "param_grid_classifier = {'n_neighbors': range(1, 20), 'weights': ['uniform', 'distance']}\n",
    "grid_classifier = GridSearchCV(KNeighborsClassifier(), param_grid_classifier, scoring='f1', cv=5)\n",
    "grid_classifier.fit(X_train_titanic, y_train_titanic)  # X_train_titanic и y_train_titanic должны быть предобработанными\n",
    "\n",
    "# Лучшая модель\n",
    "best_knn_classifier = grid_classifier.best_estimator_\n",
    "\n",
    "# Оценка точности улучшенной модели\n",
    "y_pred_titanic = best_knn_classifier.predict(X_test_titanic)\n",
    "print(\"Improved Titanic Dataset - Classification Metrics:\")\n",
    "print(\"Accuracy:\", accuracy_score(y_test_titanic, y_pred_titanic))\n",
    "print(\"Precision:\", precision_score(y_test_titanic, y_pred_titanic))\n",
    "print(\"Recall:\", recall_score(y_test_titanic, y_pred_titanic))\n",
    "print(\"F1 Score:\", f1_score(y_test_titanic, y_pred_titanic))\n",
    "y_pred_proba_titanic = best_knn_classifier.predict_proba(X_test_titanic)[:, 1]\n",
    "print(\"ROC AUC Score:\", roc_auc_score(y_test_titanic, y_pred_proba_titanic))\n",
    "\n",
    "# Подбор гиперпараметров для регрессии\n",
    "param_grid_regressor = {'n_neighbors': range(1, 20), 'weights': ['uniform', 'distance']}\n",
    "grid_regressor = GridSearchCV(KNeighborsRegressor(), param_grid_regressor, scoring='neg_mean_squared_error', cv=5)\n",
    "grid_regressor.fit(X_train_house, y_train_house)  # X_train_house и y_train_house должны быть предобработанными\n",
    "\n",
    "# Лучшая модель\n",
    "best_knn_regressor = grid_regressor.best_estimator_\n",
    "\n",
    "# Оценка точности улучшенной модели\n",
    "y_pred_house = best_knn_regressor.predict(X_test_house)\n",
    "print(\"\\nImproved House Prices Dataset - Regression Metrics:\")\n",
    "print(\"Mean Absolute Error (MAE):\", mean_absolute_error(y_test_house, y_pred_house))\n",
    "print(\"Mean Squared Error (MSE):\", mean_squared_error(y_test_house, y_pred_house))\n",
    "print(\"Root Mean Squared Error (RMSE):\", np.sqrt(mean_squared_error(y_test_house, y_pred_house)))\n",
    "print(\"R-squared (R²):\", r2_score(y_test_house, y_pred_house))"
   ]
  },
  {
   "cell_type": "markdown",
   "metadata": {},
   "source": [
    "Собственные имплементации"
   ]
  },
  {
   "cell_type": "code",
   "execution_count": 53,
   "metadata": {},
   "outputs": [],
   "source": [
    "import numpy as np\n",
    "from collections import Counter\n",
    "\n",
    "class KNNClassifier:\n",
    "    def __init__(self, n_neighbors=5):\n",
    "        self.n_neighbors = n_neighbors\n",
    "\n",
    "    def fit(self, X, y):\n",
    "        self.X_train = X\n",
    "        self.y_train = np.array(y)  # Приводим y_train к numpy массиву для корректного индексирования\n",
    "\n",
    "    def predict(self, X):\n",
    "        y_pred = [self._predict(x) for x in X]\n",
    "        return np.array(y_pred)\n",
    "\n",
    "    def _predict(self, x):\n",
    "        # Вычисляем расстояние до всех точек в тренировочных данных\n",
    "        distances = np.linalg.norm(self.X_train - x, axis=1)\n",
    "        # Находим индексы ближайших соседей\n",
    "        k_indices = np.argsort(distances)[:self.n_neighbors]\n",
    "        # Собираем метки классов этих соседей\n",
    "        k_nearest_labels = [self.y_train[i] for i in k_indices]\n",
    "        # Возвращаем наиболее частую метку\n",
    "        most_common = Counter(k_nearest_labels).most_common(1)\n",
    "        return most_common[0][0]\n",
    "\n",
    "# Аналогично, для регрессии\n",
    "class KNNRegressor:\n",
    "    def __init__(self, n_neighbors=5):\n",
    "        self.n_neighbors = n_neighbors\n",
    "\n",
    "    def fit(self, X, y):\n",
    "        self.X_train = X\n",
    "        self.y_train = np.array(y)  # Приводим y_train к numpy массиву для корректного индексирования\n",
    "\n",
    "    def predict(self, X):\n",
    "        y_pred = [self._predict(x) for x in X]\n",
    "        return np.array(y_pred)\n",
    "\n",
    "    def _predict(self, x):\n",
    "        # Вычисляем расстояние до всех точек в тренировочных данных\n",
    "        distances = np.linalg.norm(self.X_train - x, axis=1)\n",
    "        # Находим индексы ближайших соседей\n",
    "        k_indices = np.argsort(distances)[:self.n_neighbors]\n",
    "        # Среднее значение для регрессии\n",
    "        return np.mean([self.y_train[i] for i in k_indices])"
   ]
  },
  {
   "cell_type": "code",
   "execution_count": 54,
   "metadata": {},
   "outputs": [
    {
     "name": "stdout",
     "output_type": "stream",
     "text": [
      "Custom KNNClassifier Titanic Dataset - Classification Metrics:\n",
      "Accuracy: 0.6223776223776224\n",
      "Precision: 0.5227272727272727\n",
      "Recall: 0.4107142857142857\n",
      "F1 Score: 0.46\n"
     ]
    }
   ],
   "source": [
    "classifier = KNNClassifier(n_neighbors=5)\n",
    "classifier.fit(X_train_titanic, y_train_titanic)\n",
    "y_pred_titanic = classifier.predict(X_test_titanic)\n",
    "\n",
    "from sklearn.metrics import accuracy_score, precision_score, recall_score, f1_score, roc_auc_score\n",
    "\n",
    "print(\"Custom KNNClassifier Titanic Dataset - Classification Metrics:\")\n",
    "print(\"Accuracy:\", accuracy_score(y_test_titanic, y_pred_titanic))\n",
    "print(\"Precision:\", precision_score(y_test_titanic, y_pred_titanic))\n",
    "print(\"Recall:\", recall_score(y_test_titanic, y_pred_titanic))\n",
    "print(\"F1 Score:\", f1_score(y_test_titanic, y_pred_titanic))"
   ]
  },
  {
   "cell_type": "code",
   "execution_count": 56,
   "metadata": {},
   "outputs": [
    {
     "name": "stdout",
     "output_type": "stream",
     "text": [
      "\n",
      "Custom KNNRegressor House Prices Dataset - Regression Metrics:\n",
      "Mean Absolute Error (MAE): 21674.221917808216\n",
      "Mean Squared Error (MSE): 1291750751.233151\n",
      "Root Mean Squared Error (RMSE): 35940.93420089621\n",
      "R-squared (R²): 0.831591158401741\n"
     ]
    }
   ],
   "source": [
    "regressor = KNNRegressor(n_neighbors=5)\n",
    "regressor.fit(X_train_house, y_train_house)\n",
    "y_pred_house = regressor.predict(X_test_house)\n",
    "\n",
    "from sklearn.metrics import mean_absolute_error, mean_squared_error, r2_score\n",
    "\n",
    "print(\"\\nCustom KNNRegressor House Prices Dataset - Regression Metrics:\")\n",
    "print(\"Mean Absolute Error (MAE):\", mean_absolute_error(y_test_house, y_pred_house))\n",
    "print(\"Mean Squared Error (MSE):\", mean_squared_error(y_test_house, y_pred_house))\n",
    "print(\"Root Mean Squared Error (RMSE):\", np.sqrt(mean_squared_error(y_test_house, y_pred_house)))\n",
    "print(\"R-squared (R²):\", r2_score(y_test_house, y_pred_house))"
   ]
  },
  {
   "cell_type": "markdown",
   "metadata": {},
   "source": [
    "Улучшения"
   ]
  },
  {
   "cell_type": "code",
   "execution_count": 57,
   "metadata": {},
   "outputs": [],
   "source": [
    "# Усовершенствованный KNN\n",
    "class ImprovedKNNClassifier:\n",
    "    def __init__(self, n_neighbors=5, weighted=False):\n",
    "        self.n_neighbors = n_neighbors\n",
    "        self.weighted = weighted\n",
    "\n",
    "    def fit(self, X, y):\n",
    "        self.X_train = X\n",
    "        self.y_train = np.array(y)\n",
    "\n",
    "    def predict(self, X):\n",
    "        y_pred = [self._predict(x) for x in X]\n",
    "        return np.array(y_pred)\n",
    "\n",
    "    def _predict(self, x):\n",
    "        distances = np.linalg.norm(self.X_train - x, axis=1)\n",
    "        k_indices = np.argsort(distances)[:self.n_neighbors]\n",
    "        k_nearest_labels = [self.y_train[i] for i in k_indices]\n",
    "        if self.weighted:\n",
    "            weights = 1 / (distances[k_indices] + 1e-5)  # добавление EPS для избежания деления на 0\n",
    "            weighted_votes = {}\n",
    "            for idx, label in enumerate(k_nearest_labels):\n",
    "                if label in weighted_votes:\n",
    "                    weighted_votes[label] += weights[idx]\n",
    "                else:\n",
    "                    weighted_votes[label] = weights[idx]\n",
    "            most_common = max(weighted_votes, key=weighted_votes.get)\n",
    "            return most_common\n",
    "        else:\n",
    "            most_common = Counter(k_nearest_labels).most_common(1)\n",
    "            return most_common[0][0]\n",
    "\n",
    "# Для регрессии\n",
    "class ImprovedKNNRegressor:\n",
    "    def __init__(self, n_neighbors=5, weighted=False):\n",
    "        self.n_neighbors = n_neighbors\n",
    "        self.weighted = weighted\n",
    "\n",
    "    def fit(self, X, y):\n",
    "        self.X_train = X\n",
    "        self.y_train = np.array(y)\n",
    "\n",
    "    def predict(self, X):\n",
    "        y_pred = [self._predict(x) for x in X]\n",
    "        return np.array(y_pred)\n",
    "\n",
    "    def _predict(self, x):\n",
    "        distances = np.linalg.norm(self.X_train - x, axis=1)\n",
    "        k_indices = np.argsort(distances)[:self.n_neighbors]\n",
    "        if self.weighted:\n",
    "            weights = 1 / (distances[k_indices] + 1e-5)\n",
    "            weighted_average = np.dot(weights, [self.y_train[i] for i in k_indices]) / np.sum(weights)\n",
    "            return weighted_average\n",
    "        else:\n",
    "            return np.mean([self.y_train[i] for i in k_indices])"
   ]
  },
  {
   "cell_type": "code",
   "execution_count": 59,
   "metadata": {},
   "outputs": [
    {
     "name": "stdout",
     "output_type": "stream",
     "text": [
      "Improved Custom KNNClassifier with Weights - Classification Metrics:\n",
      "Accuracy: 0.6363636363636364\n",
      "Precision: 0.5476190476190477\n",
      "Recall: 0.4107142857142857\n",
      "F1 Score: 0.46938775510204084\n",
      "\n",
      "Improved Custom KNNRegressor with Weights - Regression Metrics:\n",
      "Mean Absolute Error (MAE): 20982.29819728557\n",
      "Mean Squared Error (MSE): 1089580748.176257\n",
      "Root Mean Squared Error (RMSE): 33008.79804198052\n",
      "R-squared (R²): 0.8579485775774027\n"
     ]
    },
    {
     "data": {
      "text/plain": [
       "Ellipsis"
      ]
     },
     "execution_count": 59,
     "metadata": {},
     "output_type": "execute_result"
    }
   ],
   "source": [
    "classifier = ImprovedKNNClassifier(n_neighbors=5, weighted=True)\n",
    "classifier.fit(X_train_titanic, y_train_titanic)\n",
    "y_pred_titanic = classifier.predict(X_test_titanic)\n",
    "\n",
    "print(\"Improved Custom KNNClassifier with Weights - Classification Metrics:\")\n",
    "print(\"Accuracy:\", accuracy_score(y_test_titanic, y_pred_titanic))\n",
    "print(\"Precision:\", precision_score(y_test_titanic, y_pred_titanic))\n",
    "print(\"Recall:\", recall_score(y_test_titanic, y_pred_titanic))\n",
    "print(\"F1 Score:\", f1_score(y_test_titanic, y_pred_titanic))\n",
    "\n",
    "regressor = ImprovedKNNRegressor(n_neighbors=5, weighted=True)\n",
    "regressor.fit(X_train_house, y_train_house)\n",
    "y_pred_house = regressor.predict(X_test_house)\n",
    "\n",
    "print(\"\\nImproved Custom KNNRegressor with Weights - Regression Metrics:\")\n",
    "print(\"Mean Absolute Error (MAE):\", mean_absolute_error(y_test_house, y_pred_house))\n",
    "print(\"Mean Squared Error (MSE):\", mean_squared_error(y_test_house, y_pred_house))\n",
    "print(\"Root Mean Squared Error (RMSE):\", np.sqrt(mean_squared_error(y_test_house, y_pred_house)))\n",
    "print(\"R-squared (R²):\", r2_score(y_test_house, y_pred_house))\n",
    "..."
   ]
  }
 ],
 "metadata": {
  "kernelspec": {
   "display_name": "env",
   "language": "python",
   "name": "python3"
  },
  "language_info": {
   "codemirror_mode": {
    "name": "ipython",
    "version": 3
   },
   "file_extension": ".py",
   "mimetype": "text/x-python",
   "name": "python",
   "nbconvert_exporter": "python",
   "pygments_lexer": "ipython3",
   "version": "3.7.9"
  }
 },
 "nbformat": 4,
 "nbformat_minor": 2
}
